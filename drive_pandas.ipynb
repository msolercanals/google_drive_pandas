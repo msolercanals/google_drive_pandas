{
 "cells": [
  {
   "cell_type": "code",
   "execution_count": 39,
   "metadata": {},
   "outputs": [],
   "source": [
    "#Usual suspects\n",
    "import pandas as pd\n",
    "from datetime import datetime, timedelta\n",
    "import time\n",
    "import requests \n",
    "\n",
    "#Google libaries\n",
    "import os\n",
    "from google.cloud import bigquery\n",
    "from google.cloud.bigquery.client import Client\n",
    "\n",
    "\n",
    "\n",
    "\n",
    "import df2gspread as d2g\n",
    "import gspread\n",
    "from gspread_pandas import Spread, Client\n",
    "from oauth2client.service_account import ServiceAccountCredentials\n",
    "\n",
    "import json\n",
    "import csv\n",
    "pd.set_option(\"display.max_rows\", None, \"display.max_columns\", None)\n"
   ]
  },
  {
   "cell_type": "markdown",
   "metadata": {},
   "source": [
    "Credentials:"
   ]
  },
  {
   "cell_type": "code",
   "execution_count": 40,
   "metadata": {},
   "outputs": [
    {
     "ename": "OSError",
     "evalue": "No Google client config found.\nPlease download json from https://console.developers.google.com/apis/credentials and save as C:\\Users\\slana\\AppData\\Roaming\\gspread_pandas\\google_secret.json",
     "output_type": "error",
     "traceback": [
      "\u001b[1;31m---------------------------------------------------------------------------\u001b[0m",
      "\u001b[1;31mOSError\u001b[0m                                   Traceback (most recent call last)",
      "\u001b[1;32m<ipython-input-40-34d96038e1f5>\u001b[0m in \u001b[0;36m<module>\u001b[1;34m\u001b[0m\n\u001b[0;32m      1\u001b[0m \u001b[0mos\u001b[0m\u001b[1;33m.\u001b[0m\u001b[0menviron\u001b[0m\u001b[1;33m[\u001b[0m\u001b[1;34m'GOOGLE_APPLICATION_CREDENTIALS'\u001b[0m\u001b[1;33m]\u001b[0m \u001b[1;33m=\u001b[0m \u001b[1;34m'C:\\\\Users\\slana\\Gorillas\\Riders Database\\Gorillas BI-103dc5a0174e.json'\u001b[0m\u001b[1;33m\u001b[0m\u001b[1;33m\u001b[0m\u001b[0m\n\u001b[1;32m----> 2\u001b[1;33m \u001b[0mbq_client\u001b[0m \u001b[1;33m=\u001b[0m \u001b[0mClient\u001b[0m\u001b[1;33m(\u001b[0m\u001b[1;33m)\u001b[0m\u001b[1;33m\u001b[0m\u001b[1;33m\u001b[0m\u001b[0m\n\u001b[0m",
      "\u001b[1;32m~\\anaconda3\\lib\\site-packages\\gspread_pandas\\client.py\u001b[0m in \u001b[0;36m__init__\u001b[1;34m(self, user, config, scope, creds, session, load_dirs)\u001b[0m\n\u001b[0;32m     88\u001b[0m                 \u001b[0mcredentials\u001b[0m \u001b[1;33m=\u001b[0m \u001b[0mconvert_credentials\u001b[0m\u001b[1;33m(\u001b[0m\u001b[0mcreds\u001b[0m\u001b[1;33m)\u001b[0m\u001b[1;33m\u001b[0m\u001b[1;33m\u001b[0m\u001b[0m\n\u001b[0;32m     89\u001b[0m             \u001b[1;32melif\u001b[0m \u001b[0misinstance\u001b[0m\u001b[1;33m(\u001b[0m\u001b[0muser\u001b[0m\u001b[1;33m,\u001b[0m \u001b[0msix\u001b[0m\u001b[1;33m.\u001b[0m\u001b[0mstring_types\u001b[0m\u001b[1;33m)\u001b[0m\u001b[1;33m:\u001b[0m\u001b[1;33m\u001b[0m\u001b[1;33m\u001b[0m\u001b[0m\n\u001b[1;32m---> 90\u001b[1;33m                 \u001b[0mcredentials\u001b[0m \u001b[1;33m=\u001b[0m \u001b[0mget_creds\u001b[0m\u001b[1;33m(\u001b[0m\u001b[0muser\u001b[0m\u001b[1;33m,\u001b[0m \u001b[0mconfig\u001b[0m\u001b[1;33m,\u001b[0m \u001b[0mself\u001b[0m\u001b[1;33m.\u001b[0m\u001b[0mscope\u001b[0m\u001b[1;33m)\u001b[0m\u001b[1;33m\u001b[0m\u001b[1;33m\u001b[0m\u001b[0m\n\u001b[0m\u001b[0;32m     91\u001b[0m             \u001b[1;32melse\u001b[0m\u001b[1;33m:\u001b[0m\u001b[1;33m\u001b[0m\u001b[1;33m\u001b[0m\u001b[0m\n\u001b[0;32m     92\u001b[0m                 raise TypeError(\n",
      "\u001b[1;32m~\\anaconda3\\lib\\site-packages\\gspread_pandas\\conf.py\u001b[0m in \u001b[0;36mget_creds\u001b[1;34m(user, config, scope, creds_dir, save)\u001b[0m\n\u001b[0;32m    140\u001b[0m         \u001b[0mGoogle\u001b[0m \u001b[0mcredentials\u001b[0m \u001b[0mthat\u001b[0m \u001b[0mcan\u001b[0m \u001b[0mbe\u001b[0m \u001b[0mused\u001b[0m \u001b[1;32mwith\u001b[0m \u001b[0mgspread\u001b[0m\u001b[1;33m\u001b[0m\u001b[1;33m\u001b[0m\u001b[0m\n\u001b[0;32m    141\u001b[0m     \"\"\"\n\u001b[1;32m--> 142\u001b[1;33m     \u001b[0mconfig\u001b[0m \u001b[1;33m=\u001b[0m \u001b[0mconfig\u001b[0m \u001b[1;32mor\u001b[0m \u001b[0mget_config\u001b[0m\u001b[1;33m(\u001b[0m\u001b[1;33m)\u001b[0m\u001b[1;33m\u001b[0m\u001b[1;33m\u001b[0m\u001b[0m\n\u001b[0m\u001b[0;32m    143\u001b[0m     \u001b[1;32mtry\u001b[0m\u001b[1;33m:\u001b[0m\u001b[1;33m\u001b[0m\u001b[1;33m\u001b[0m\u001b[0m\n\u001b[0;32m    144\u001b[0m         \u001b[1;32mif\u001b[0m \u001b[1;34m\"private_key_id\"\u001b[0m \u001b[1;32min\u001b[0m \u001b[0mconfig\u001b[0m\u001b[1;33m:\u001b[0m\u001b[1;33m\u001b[0m\u001b[1;33m\u001b[0m\u001b[0m\n",
      "\u001b[1;32m~\\anaconda3\\lib\\site-packages\\gspread_pandas\\conf.py\u001b[0m in \u001b[0;36mget_config\u001b[1;34m(conf_dir, file_name)\u001b[0m\n\u001b[0;32m     92\u001b[0m \u001b[1;33m\u001b[0m\u001b[0m\n\u001b[0;32m     93\u001b[0m     \u001b[1;32mif\u001b[0m \u001b[1;32mnot\u001b[0m \u001b[0mcfg_file\u001b[0m\u001b[1;33m.\u001b[0m\u001b[0mexists\u001b[0m\u001b[1;33m(\u001b[0m\u001b[1;33m)\u001b[0m\u001b[1;33m:\u001b[0m\u001b[1;33m\u001b[0m\u001b[1;33m\u001b[0m\u001b[0m\n\u001b[1;32m---> 94\u001b[1;33m         raise IOError(\n\u001b[0m\u001b[0;32m     95\u001b[0m             \u001b[1;34m\"No Google client config found.\\n\"\u001b[0m\u001b[1;33m\u001b[0m\u001b[1;33m\u001b[0m\u001b[0m\n\u001b[0;32m     96\u001b[0m             \u001b[1;34m\"Please download json from \"\u001b[0m\u001b[1;33m\u001b[0m\u001b[1;33m\u001b[0m\u001b[0m\n",
      "\u001b[1;31mOSError\u001b[0m: No Google client config found.\nPlease download json from https://console.developers.google.com/apis/credentials and save as C:\\Users\\slana\\AppData\\Roaming\\gspread_pandas\\google_secret.json"
     ]
    }
   ],
   "source": []
  },
  {
   "cell_type": "code",
   "execution_count": 41,
   "metadata": {},
   "outputs": [],
   "source": [
    "scope = [\"https://spreadsheets.google.com/feeds\",'https://www.googleapis.com/auth/spreadsheets',\"https://www.googleapis.com/auth/drive.file\",\"https://www.googleapis.com/auth/drive\"]\n",
    "creds = ServiceAccountCredentials.from_json_keyfile_name(\"creds_marc.json\", scope)\n",
    "gc = gspread.authorize(creds)\n",
    "\n"
   ]
  },
  {
   "cell_type": "markdown",
   "metadata": {},
   "source": [
    "We have 3 ways of opening a google sheets:"
   ]
  },
  {
   "cell_type": "code",
   "execution_count": 42,
   "metadata": {},
   "outputs": [],
   "source": [
    "sh = gc.open('DB - Testing')"
   ]
  },
  {
   "cell_type": "code",
   "execution_count": null,
   "metadata": {},
   "outputs": [],
   "source": [
    "# sht1 = gc.open_by_key('1xtTdf52wFLjbhD7Fcav1xvpRRqw3ktGr_EwONaB73lg')"
   ]
  },
  {
   "cell_type": "code",
   "execution_count": null,
   "metadata": {},
   "outputs": [],
   "source": [
    "# sht2 = gc.open_by_url('https://docs.google.com/spreadsheets/d/1xtTdf52wFLjbhD7Fcav1xvpRRqw3ktGr_EwONaB73lg/edit#gid=0')"
   ]
  },
  {
   "cell_type": "markdown",
   "metadata": {},
   "source": [
    "We can create and share sheets"
   ]
  },
  {
   "cell_type": "code",
   "execution_count": 9,
   "metadata": {},
   "outputs": [],
   "source": [
    "shs = gc.create('test_created_and_shared')"
   ]
  },
  {
   "cell_type": "code",
   "execution_count": 13,
   "metadata": {},
   "outputs": [],
   "source": [
    "shs.share('marc.soler@gorillasapp.com', perm_type='user', role='writer')"
   ]
  },
  {
   "cell_type": "markdown",
   "metadata": {},
   "source": [
    "Selecting a worksheet: "
   ]
  },
  {
   "cell_type": "code",
   "execution_count": 17,
   "metadata": {},
   "outputs": [],
   "source": [
    "page_1 = sh.get_worksheet(0)"
   ]
  },
  {
   "cell_type": "code",
   "execution_count": null,
   "metadata": {},
   "outputs": [],
   "source": [
    "# worksheet = sh.worksheet(\"January\")"
   ]
  },
  {
   "cell_type": "code",
   "execution_count": null,
   "metadata": {},
   "outputs": [],
   "source": [
    "# worksheet = sh.sheet1"
   ]
  },
  {
   "cell_type": "code",
   "execution_count": 22,
   "metadata": {},
   "outputs": [
    {
     "data": {
      "text/plain": [
       "[<Worksheet 'test_1' id:0>,\n",
       " <Worksheet 'test_2' id:478414695>,\n",
       " <Worksheet 'test_3' id:1804705211>]"
      ]
     },
     "execution_count": 22,
     "metadata": {},
     "output_type": "execute_result"
    }
   ],
   "source": [
    "sh.worksheets()"
   ]
  },
  {
   "cell_type": "markdown",
   "metadata": {},
   "source": [
    "transforming the sheet in to a df"
   ]
  },
  {
   "cell_type": "code",
   "execution_count": 29,
   "metadata": {},
   "outputs": [],
   "source": [
    "df = pd.DataFrame(page_1.get_all_records())"
   ]
  },
  {
   "cell_type": "markdown",
   "metadata": {},
   "source": [
    "adding a worksheet"
   ]
  },
  {
   "cell_type": "code",
   "execution_count": 25,
   "metadata": {},
   "outputs": [],
   "source": [
    "worksheet_added = sh.add_worksheet(title=\"worksheet_added\", rows=\"100\", cols=\"20\")"
   ]
  },
  {
   "cell_type": "markdown",
   "metadata": {},
   "source": [
    "And Deleting it"
   ]
  },
  {
   "cell_type": "code",
   "execution_count": 24,
   "metadata": {},
   "outputs": [
    {
     "data": {
      "text/plain": [
       "{'spreadsheetId': '1xtTdf52wFLjbhD7Fcav1xvpRRqw3ktGr_EwONaB73lg',\n",
       " 'replies': [{}]}"
      ]
     },
     "execution_count": 24,
     "metadata": {},
     "output_type": "execute_result"
    }
   ],
   "source": [
    "sh.del_worksheet(worksheet_added) # no need of declaring a variable"
   ]
  },
  {
   "cell_type": "markdown",
   "metadata": {},
   "source": [
    "Here are the methods that may help you to reduce API calls:\n",
    "\n",
    "- get_all_values() fetches values from all of the cells of the sheet.\n",
    "- get() fetches all values from a range of cells.\n",
    "- batch_get() can fetch values from multiple ranges of cells with one API call.\n",
    "- update() lets you update a range of cells with a list of lists.\n",
    "- batch_update() lets you update multiple ranges of cells with one API call.\n",
    "\n",
    "More info in:\n",
    "   - web:https://gspread.readthedocs.io/en/latest/user-guide.html?highlight=pandas#using-gspread-with-pandas\n",
    "   - documentation: https://buildmedia.readthedocs.org/media/pdf/gspread/latest/gspread.pdf\n"
   ]
  },
  {
   "cell_type": "markdown",
   "metadata": {},
   "source": [
    "update a worksheet with a lot of values at once. # erases whatever was there before"
   ]
  },
  {
   "cell_type": "code",
   "execution_count": 27,
   "metadata": {},
   "outputs": [
    {
     "data": {
      "text/plain": [
       "{'spreadsheetId': '1xtTdf52wFLjbhD7Fcav1xvpRRqw3ktGr_EwONaB73lg',\n",
       " 'updatedRange': 'worksheet_added!A1:B2',\n",
       " 'updatedRows': 2,\n",
       " 'updatedColumns': 2,\n",
       " 'updatedCells': 4}"
      ]
     },
     "execution_count": 27,
     "metadata": {},
     "output_type": "execute_result"
    }
   ],
   "source": [
    "worksheet_added.update('A1:B2', [[1, 2], [3, 4]])"
   ]
  },
  {
   "cell_type": "markdown",
   "metadata": {},
   "source": [
    "# Update allways deletes whatever was there before"
   ]
  },
  {
   "cell_type": "code",
   "execution_count": 32,
   "metadata": {},
   "outputs": [
    {
     "data": {
      "text/plain": [
       "{'spreadsheetId': '1xtTdf52wFLjbhD7Fcav1xvpRRqw3ktGr_EwONaB73lg',\n",
       " 'updatedRange': 'worksheet_added!A1:C12',\n",
       " 'updatedRows': 12,\n",
       " 'updatedColumns': 3,\n",
       " 'updatedCells': 36}"
      ]
     },
     "execution_count": 32,
     "metadata": {},
     "output_type": "execute_result"
    }
   ],
   "source": [
    "worksheet_added.update([df.columns.values.tolist()] + df.values.tolist())"
   ]
  },
  {
   "cell_type": "code",
   "execution_count": null,
   "metadata": {},
   "outputs": [],
   "source": []
  },
  {
   "cell_type": "code",
   "execution_count": null,
   "metadata": {},
   "outputs": [],
   "source": []
  },
  {
   "cell_type": "code",
   "execution_count": null,
   "metadata": {},
   "outputs": [],
   "source": []
  },
  {
   "cell_type": "code",
   "execution_count": null,
   "metadata": {},
   "outputs": [],
   "source": []
  },
  {
   "cell_type": "code",
   "execution_count": null,
   "metadata": {},
   "outputs": [],
   "source": []
  },
  {
   "cell_type": "markdown",
   "metadata": {},
   "source": [
    "Downloading and loading a dataframe"
   ]
  },
  {
   "cell_type": "code",
   "execution_count": null,
   "metadata": {},
   "outputs": [],
   "source": [
    "dataframe = pd.DataFrame(worksheet.get_all_records())\n",
    "\n",
    "\n",
    "worksheet.update([dataframe.columns.values.tolist()] + dataframe.values.tolist())\n",
    "\n",
    "\n",
    "\n"
   ]
  }
 ],
 "metadata": {
  "kernelspec": {
   "display_name": "Python 3",
   "language": "python",
   "name": "python3"
  },
  "language_info": {
   "codemirror_mode": {
    "name": "ipython",
    "version": 3
   },
   "file_extension": ".py",
   "mimetype": "text/x-python",
   "name": "python",
   "nbconvert_exporter": "python",
   "pygments_lexer": "ipython3",
   "version": "3.8.5"
  }
 },
 "nbformat": 4,
 "nbformat_minor": 4
}
